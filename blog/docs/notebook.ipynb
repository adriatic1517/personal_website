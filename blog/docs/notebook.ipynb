{
 "cells": [
  {
   "cell_type": "markdown",
   "metadata": {
    "id": "ocV5Tolp8Otl"
   },
   "source": [
    "#Day 1/100"
   ]
  },
  {
   "cell_type": "markdown",
   "metadata": {
    "id": "2gHCqJHJf790"
   },
   "source": [
    "## Welcome!\n",
    "Watch this [3 min intro ](https://www.youtube.com/watch?v=inN8seMm7UI)to Google Colab before we go on."
   ]
  },
  {
   "cell_type": "markdown",
   "metadata": {
    "id": "rZXClaB9Ed-n"
   },
   "source": [
    "Sign in on your laptop, Then open a new Colab Notebook (File --> New Notebook) and follow along. Don't worrry if you get lost. You can't break Google Colab. You can also work here."
   ]
  },
  {
   "cell_type": "markdown",
   "metadata": {
    "id": "RHqsx45vojke"
   },
   "source": [
    "Over the course of the next hundred days, we will try to cover as much data science as we can. I'll call this endeavour hundred days of AI with Emad so that it has a catchy buzz name. You will need no background knowledge."
   ]
  },
  {
   "cell_type": "markdown",
   "metadata": {
    "id": "GtvTevBSZEnj"
   },
   "source": [
    " I will assume you are proficient in English and are **typing** (never copy pasting, this way you develop muscle memory) the code I write as we go along.\n"
   ]
  },
  {
   "cell_type": "markdown",
   "metadata": {
    "id": "NXuJjZcehTRq"
   },
   "source": [
    "Whenever you find time, click the setting icon in the top right to adjust this page's theme for yourself.\n",
    "(To run this text cell, first click on this cell then press Shift + Enter)"
   ]
  },
  {
   "cell_type": "code",
   "execution_count": null,
   "metadata": {
    "colab": {
     "base_uri": "https://localhost:8080/"
    },
    "id": "9BkNKBc6bWfQ",
    "outputId": "1fc12d4f-d753-4104-e9a9-d99a4b514be0"
   },
   "outputs": [
    {
     "data": {
      "text/plain": [
       "4"
      ]
     },
     "execution_count": 28,
     "metadata": {
      "tags": []
     },
     "output_type": "execute_result"
    }
   ],
   "source": [
    "# This is a python code cell. \n",
    "# Anything following a hashtag is a comment in python\n",
    "# To run this code cell, click in it and press shift + enter\n",
    "# Or by clicking the play button\n",
    "2 + 2"
   ]
  },
  {
   "cell_type": "code",
   "execution_count": null,
   "metadata": {
    "colab": {
     "base_uri": "https://localhost:8080/"
    },
    "id": "ER7RvqlzDlaT",
    "outputId": "151058a1-d2d8-44e6-e8b6-b5dbff27c25a"
   },
   "outputs": [
    {
     "name": "stdout",
     "output_type": "stream",
     "text": [
      "That's 3\n",
      "Quick maths\n"
     ]
    }
   ],
   "source": [
    "print(\"That's\",4-1)\n",
    "print(\"Quick maths\")"
   ]
  },
  {
   "cell_type": "markdown",
   "metadata": {
    "id": "0mZDvhJcMfDO"
   },
   "source": [
    "# Before we begin"
   ]
  },
  {
   "cell_type": "markdown",
   "metadata": {
    "id": "WmkjZO2qikRy"
   },
   "source": [
    "1. We will put [on nice music](https://www.youtube.com/watch?v=Q72vhRgr_dI)\n"
   ]
  },
  {
   "cell_type": "code",
   "execution_count": null,
   "metadata": {
    "colab": {
     "base_uri": "https://localhost:8080/"
    },
    "id": "Tm0J1afOioy9",
    "outputId": "ebbd54e5-d925-4f4e-928d-4b1834db17d3"
   },
   "outputs": [
    {
     "name": "stdout",
     "output_type": "stream",
     "text": [
      "Emad is happy?  True\n"
     ]
    }
   ],
   "source": [
    "good_music = True\n",
    "good_code = True\n",
    "good_vibes = True\n",
    "good_chai = True\n",
    "print(\"Emad is happy? \", good_music and good_code and good_vibes and good_chai)"
   ]
  },
  {
   "cell_type": "code",
   "execution_count": null,
   "metadata": {
    "colab": {
     "base_uri": "https://localhost:8080/"
    },
    "id": "L5JgLV3-i-Yd",
    "outputId": "4d65ff1e-2ff9-40f3-c168-b79bb5b05d34"
   },
   "outputs": [
    {
     "name": "stdout",
     "output_type": "stream",
     "text": [
      "Emad is happy?  True\n"
     ]
    }
   ],
   "source": [
    "good_music = False\n",
    "good_code = False\n",
    "good_vibes = False\n",
    "good_chai = True\n",
    "print(\"Emad is happy? \", good_music and good_code and good_vibes or good_chai)"
   ]
  },
  {
   "cell_type": "markdown",
   "metadata": {
    "id": "2p4m6bOBPT13"
   },
   "source": [
    "Text sections are for explanations. Explanations are quite important in Data Science. More important than the code itself.\n",
    "\n",
    "\n",
    "\n"
   ]
  },
  {
   "cell_type": "markdown",
   "metadata": {
    "id": "TZCcV7RDLfEe"
   },
   "source": [
    "Let's explain what have you done so far here in this text cell: \n",
    "\n",
    "\n",
    "1.   You ran a text cell. Text cells are just text (and poetry is just text too), in a way Google Colab can be seen as Google Docs but with code cells in between.\n",
    "2.   You ran a code cell. A code cell executes python code. You ran code cells that printed string (stuff inside quotes usually text). \n",
    "\n",
    "More importantly, you ran a multiline python code on a powerful computer in Google's warehouses from wherever you are sitting right now.  \n",
    "\n",
    "If you know how to run a cell in and are logged into Google Colab, then we are good to go!\n",
    "\n",
    "\n",
    "\n",
    "\n",
    "\n",
    "\n",
    "\n"
   ]
  },
  {
   "cell_type": "markdown",
   "metadata": {
    "id": "kI-E6G69xaWb"
   },
   "source": [
    "###Goal:\n",
    "\n",
    "**The main point of this tutorial is to get you comfortable in Google Colab and set the stage for why we need python.**"
   ]
  },
  {
   "cell_type": "markdown",
   "metadata": {
    "id": "9zzgg9TNVjiY"
   },
   "source": [
    "\n",
    "We will first do a quick dive of how to run python code in Google Colab by running the next few cells. You are not expected to understand anything except how to run a code cell. \n",
    "\n",
    "\n",
    "**At any point, to restart, click on Runtime --> Restart Runtime**\n",
    "\n",
    "This is the equivalent of restarting the computer and it will be as if no cell was executed. You will lose all computation. You will have to shift + enter (run) any cell you previously run.\n"
   ]
  },
  {
   "cell_type": "markdown",
   "metadata": {
    "id": "DwybHohISmm3"
   },
   "source": [
    "## Can you print? Quick check"
   ]
  },
  {
   "cell_type": "markdown",
   "metadata": {
    "id": "HsA5dnYHSpDN"
   },
   "source": [
    "Down, below the identitcal example cell, you can see an empty code cell. Print your name in it by\n",
    "writing:\n",
    "\n",
    "```\n",
    "[ ] print(\"Whatever your name is\")\n",
    "```\n",
    "\n",
    "and then running the cell."
   ]
  },
  {
   "cell_type": "code",
   "execution_count": null,
   "metadata": {
    "id": "5L29JYlQNUTb"
   },
   "outputs": [],
   "source": []
  },
  {
   "cell_type": "markdown",
   "metadata": {
    "id": "qYu13wDGTIF9"
   },
   "source": [
    "Great job. You are now a coder. If you want to know how exactly, continue reading. Otherwise, jump to the first project and start runnning the cells."
   ]
  },
  {
   "cell_type": "markdown",
   "metadata": {
    "id": "NI8fnX9yZc-E"
   },
   "source": [
    "## Time to watch some videos"
   ]
  },
  {
   "cell_type": "markdown",
   "metadata": {
    "id": "apRiD5TiU4GC"
   },
   "source": [
    "We are here in this new environment and this will take some getting used to but lets take it once step at a time. First, familiarize yourself with Google Colab. Watch the video at the top if you didn't already. \n",
    "\n",
    "Before we proceed let's see how python code gets executed in the Terminal on Mac/Linux computers. I want you to see [this](https://www.youtube.com/watch?v=I2wURDqiXdM) 6 min intro to Python. I don't want you to understand anything in it, I just want you to see someone executing python code in the Terminal. This will help you understand what Google Colab is and why we will use it.\n",
    "\n",
    "I am going to assume you learnt this from the videos.\n",
    "\n",
    "\n",
    "1. The person in the first video (the video at the top) introduced us to a platform that allows us to run blocks of python code, instead of just one line of code or, on other extreme, a whole file of code.   \n",
    "\n",
    "2. The person in the second video had Terminal in Mac/Linux [open](https://support.apple.com/guide/terminal/open-or-quit-terminal-apd5265185d-f365-44cb-8b09-71a064a42125/mac) and the Python Interpretor launched (by typing `python` in the Terminal shell) and was typing away python commands.\n",
    "\n"
   ]
  },
  {
   "cell_type": "markdown",
   "metadata": {
    "id": "Pc070ypDYbAM"
   },
   "source": [
    "## How to run python code in the python interpretor on a local computer"
   ]
  },
  {
   "cell_type": "markdown",
   "metadata": {
    "id": "imJZJbXI800e"
   },
   "source": [
    "\n",
    "\n",
    "You can do this by searching for Terminal, [launching](https://support.apple.com/guide/terminal/open-or-quit-terminal-apd5265185d-f365-44cb-8b09-71a064a42125/mac) it and typing `python` after the `$` sign to launch the python interpretor. In my case, after double clicking on Terminal application to launch it, I would type the following to launch the python interpretor.\n",
    "\n",
    "\n",
    "```\n",
    "# (base) Emads-MacBook-Pro:~ emadsiddiq$ python\n",
    "```\n",
    "Or alternatively, the desired version of python. For example:\n",
    "\n",
    "```\n",
    "# python3\n",
    "```\n",
    "\n",
    "\n",
    "\n",
    "\n",
    "2.   This is the screen the first in the first video had before he started typing python code:\n",
    "\n",
    "\n",
    "```\n",
    "# Python 3.7.10 (default, Feb 26 2021, 10:16:00) \n",
    "[Clang 10.0.0 ] :: Anaconda, Inc. on darwin\n",
    "Type \"help\", \"copyright\", \"credits\" or \"license\" for more information.\n",
    ">>> \n",
    "```\n",
    "\n",
    "This means the python interpreter is launched, running Python 3.7.10 and you can type single line python code after `>>>`\n",
    "\n",
    "\n",
    "Here is something you might do but go ahead and have fun \n",
    "\n",
    "```\n",
    "# >>>(base) Emads-MacBook-Pro:~ emadsiddiq$ python\n",
    "Python 3.7.10 (default, Feb 26 2021, 10:16:00) \n",
    "[Clang 10.0.0 ] :: Anaconda, Inc. on darwin\n",
    "Type \"help\", \"copyright\", \"credits\" or \"license\" for more information.\n",
    ">>> print(\"Hello Emad!\")\n",
    "Hello Emad!\n",
    ">>> 2+2 \n",
    "4\n",
    ">>> 4-1\n",
    "3\n",
    ">>> print(\"quick maths\")\n",
    "quick maths\n",
    ">>> \n",
    "```"
   ]
  },
  {
   "cell_type": "markdown",
   "metadata": {
    "id": "G-P6QdqXDSGS"
   },
   "source": [
    "##Why do we use Google Colab?"
   ]
  },
  {
   "cell_type": "markdown",
   "metadata": {
    "id": "uUZGDZnXpiMQ"
   },
   "source": [
    "***where we learn about the blessing that is jupyter notebooks***"
   ]
  },
  {
   "cell_type": "markdown",
   "metadata": {
    "id": "pTFM91dl-ibN"
   },
   "source": [
    "In the old days (which I wasn't there for), you could either enter single commands into this\n",
    "python interpretor in the Terminal which is pretty boring or write a whole *document* of python code. You would then run this whole list of commands by first saving the code with a .py extension and executing the whole file."
   ]
  },
  {
   "cell_type": "markdown",
   "metadata": {
    "id": "Z1fDwuaJJyGO"
   },
   "source": [
    "\n",
    "This method doesn't work very well with data science. We often want to do things incrementally and be able to trace our steps. Go back, \n",
    "run a specific part again and many other transgressions. We can't just write code in bulk, because we won't be doing ourselves any favours.\n"
   ]
  },
  {
   "cell_type": "markdown",
   "metadata": {
    "id": "JPnZomutBtZI"
   },
   "source": [
    "For the sake of curiousity, I will show you how you could write python code in any text editor on your computer, save it as a python file and run it in your Terminal."
   ]
  },
  {
   "cell_type": "markdown",
   "metadata": {
    "id": "HW2cPjpZDXIC"
   },
   "source": [
    "## How python runs on a local computer "
   ]
  },
  {
   "cell_type": "markdown",
   "metadata": {
    "id": "ZXp7dFnkANVa"
   },
   "source": [
    "\n",
    "Your computer runs an operating system. Your operating system runs a program that much like an actual translator, the python interpretor translates your python code that looks like English, to `1010101010`'s that computers understand. \n",
    "\n",
    "We now see how we can write and run a python code file on Mac. Please Google if you are curious for other operating systems or get stuck. Otherwise, just move on, we have Google Colab so you don't have to worry about these things.\n",
    "\n",
    "We first write python code in some text editor:\n",
    "\n",
    "`emad.py`\n",
    "```\n",
    "#Content of a file saved as emad.py\n",
    "print(\"Hello Emad\") \n",
    "print(\"This is code\")\n",
    "print(2+2+3) \n",
    "```\n",
    "\n",
    "\n",
    "\n",
    "```\n",
    "Save this file as emad.py somewhere.\n",
    "```\n",
    "\n",
    "\n",
    "\n",
    "```\n",
    "Open Terminal and change directory folder where you saved emad.py. If you saved it on Desktop you could do \n",
    "cd ~/Desktop \n",
    "Learn terminal commands if you are interested. I'll teach them as they come along later.\n",
    "```\n",
    "This is what gets outputted when we run emad.py\n",
    "\n",
    "```\n",
    "# Emads-MacBook-Pro:~ emadsiddiq$ python emad.py\n",
    "Hello Emad\n",
    "This is code\n",
    "7\n",
    "```\n",
    "\n",
    "\n",
    "\n"
   ]
  },
  {
   "cell_type": "markdown",
   "metadata": {
    "id": "1Vd8wugfHUCh"
   },
   "source": [
    "## How to run terminal commands in Google Colab?"
   ]
  },
  {
   "cell_type": "markdown",
   "metadata": {
    "id": "qtvi0PS_pFM0"
   },
   "source": [
    "***Where we see that a code cell by default executes blocks of python code, we can use a ! in front of terminal commands to access the terminal.***"
   ]
  },
  {
   "cell_type": "markdown",
   "metadata": {
    "id": "-GEDrPZBAC22"
   },
   "source": [
    "Data Science is an exploration, you learn from the process and often there is no specific end goal.\n",
    "\n",
    "For this purpose jupyter notebooks were invented and now Google has graciously offered us this platform for free which comes with a GPU, a very expensive piece of equipment, all in the cloud. \n",
    "\n",
    "So think of this window as a very powerful computer, somewhere in Google's massive computers, that will be helpful when our computers\n",
    "are not able to deal with the massive amounts of data."
   ]
  },
  {
   "cell_type": "markdown",
   "metadata": {
    "id": "sZpVnqVZiaFT"
   },
   "source": [
    "##Tell me more about this computer in the cloud where [Jupyter Notebook](https://en.wikipedia.org/wiki/Project_Jupyter)'s run courtesy Google\n",
    "\n"
   ]
  },
  {
   "cell_type": "markdown",
   "metadata": {
    "id": "VSk2WUSrijcK"
   },
   "source": [
    "Well, it's basically like any other unix computer like a macbook or any linux computer. You have access to the all powerful Terminal. All you have to do, for any command that you would otherwise enter in the Terminal like `cd` change directory or `pwd` print working directory or `ls` to list the files in the current directory, just **precede it with an exclamation mark so that the code cell knows this isn't python code but shell code meant for the terminal.**"
   ]
  },
  {
   "cell_type": "markdown",
   "metadata": {
    "id": "eROYgO96jrwR"
   },
   "source": [
    "For example, let's launch the python interpretor, which to launch on our local computer, we would have had to open Terminal and enter `python`.\n",
    "Now we just precede python with an exclamation mark so that the cell knows this command is for the terminal."
   ]
  },
  {
   "cell_type": "markdown",
   "metadata": {
    "id": "NTzohMl4kHFu"
   },
   "source": [
    "For example you could launch the python interpretor. \n",
    "\n",
    "It doesn't, however, work on Google Colab so just click pause icon after you run the next cell because it will keep on running forever.\n"
   ]
  },
  {
   "cell_type": "code",
   "execution_count": null,
   "metadata": {
    "colab": {
     "base_uri": "https://localhost:8080/"
    },
    "id": "YW35Hhk7kffi",
    "outputId": "2d5f01a6-33fc-4d0e-8ddb-37caee793a4b"
   },
   "outputs": [
    {
     "name": "stdout",
     "output_type": "stream",
     "text": [
      "Python 3.7.11 (default, Jul  3 2021, 18:01:19) \n",
      "[GCC 7.5.0] on linux\n",
      "Type \"help\", \"copyright\", \"credits\" or \"license\" for more information.\n",
      ">>> print(fd\n",
      "... \n",
      "\n",
      "KeyboardInterrupt\n",
      ">>> \n",
      "KeyboardInterrupt\n",
      ">>> ^C\n"
     ]
    }
   ],
   "source": [
    "!python3"
   ]
  },
  {
   "cell_type": "markdown",
   "metadata": {
    "id": "TCWYaG6MmY0o"
   },
   "source": [
    "Where am I working now, print working directory (pwd)"
   ]
  },
  {
   "cell_type": "code",
   "execution_count": null,
   "metadata": {
    "colab": {
     "base_uri": "https://localhost:8080/"
    },
    "id": "B0fk6BvEkxUB",
    "outputId": "4b4ee768-9dfc-459f-ec06-ead817773122"
   },
   "outputs": [
    {
     "name": "stdout",
     "output_type": "stream",
     "text": [
      "/content\n"
     ]
    }
   ],
   "source": [
    "!pwd"
   ]
  },
  {
   "cell_type": "markdown",
   "metadata": {
    "id": "UN1yOM9emSi3"
   },
   "source": [
    "List the files in this folder"
   ]
  },
  {
   "cell_type": "code",
   "execution_count": null,
   "metadata": {
    "colab": {
     "base_uri": "https://localhost:8080/"
    },
    "id": "9HHNF9EUkrCg",
    "outputId": "4bfecc27-cc35-4c04-de32-dbe95c16dde6"
   },
   "outputs": [
    {
     "name": "stdout",
     "output_type": "stream",
     "text": [
      "sample_data\n"
     ]
    }
   ],
   "source": [
    "!ls"
   ]
  },
  {
   "cell_type": "markdown",
   "metadata": {
    "id": "uRaBMWkzmVlR"
   },
   "source": [
    "Change directory to sample data"
   ]
  },
  {
   "cell_type": "code",
   "execution_count": null,
   "metadata": {
    "id": "X_WK_XC4kuHL"
   },
   "outputs": [],
   "source": [
    "!cd sample_data"
   ]
  },
  {
   "cell_type": "markdown",
   "metadata": {
    "id": "kPaJVPBYlDv8"
   },
   "source": [
    "## Why is this good for us?"
   ]
  },
  {
   "cell_type": "markdown",
   "metadata": {
    "id": "nqsnEYVVVYO-"
   },
   "source": [
    "Over the course of the next 100 days, we will use the power of computation to do amazing things with data to understand the world around us. \n",
    "\n",
    "Sometimes, we will need code to do great things. Sometimes we will need words. When we need words, we will create a textbox like the one you are reading right now. \n",
    "\n",
    "When we need code, we will add a code box to write python code. When you execute a code box (either by pressing the play button or using shift + enter shorcut), the python code in it gets executed and a number appears next to the box like so.\n",
    "\n"
   ]
  },
  {
   "cell_type": "code",
   "execution_count": null,
   "metadata": {
    "colab": {
     "base_uri": "https://localhost:8080/"
    },
    "id": "U5m-Z87qW4oK",
    "outputId": "cea3e77a-a626-4164-c85b-f06c7b0ff8fd"
   },
   "outputs": [
    {
     "name": "stdout",
     "output_type": "stream",
     "text": [
      "Hello World!\n"
     ]
    }
   ],
   "source": [
    "print('Hello World!') #Anything after a hashtag is a comment in python\n",
    "                      #We will slowly learn about python\n",
    "                      #Don't worry \n",
    "                      #Just like with any language\n",
    "                      #Time will be our friend"
   ]
  },
  {
   "cell_type": "markdown",
   "metadata": {
    "id": "xWPleBjNHgcs"
   },
   "source": [
    "# A very brief history lesson"
   ]
  },
  {
   "cell_type": "markdown",
   "metadata": {
    "id": "TJMlLTnOn8pl"
   },
   "source": [
    "***Where we appreciate the amazing times we live in***"
   ]
  },
  {
   "cell_type": "markdown",
   "metadata": {
    "id": "oHRwiiQ1MnHM"
   },
   "source": [
    "Everyone has different questions. My hope is you see me do enough data science explorations to be able to use these tools in a [domain](https://data.berkeley.edu/academics/data-science-undergraduate-studies/data-science-major/requirements-domain-emphases-1) that you care about.\n",
    "\n",
    " Naturally, to implement our thinking, we will need some kind of language. We will use the preciseness that mathematics affords us because it is unambigous and because math and computation is probably the best match made in history.\n",
    "\n",
    "Let's first narrate the story of math so that you know your special place in it. Imagine all of mathematics that has been invented since the beginning of time did not exist. \n",
    "\n",
    "\n"
   ]
  },
  {
   "cell_type": "markdown",
   "metadata": {
    "id": "dzwxrTnUzbHu"
   },
   "source": [
    "***slight digression begins***\n",
    "\n",
    " [ Read ](https://www.maa.org/external_archive/devlin/LockhartsLament.pdf)a mathematician's (famous) lament.\n",
    "\n",
    " Mathematics has been undertaken for a very very long time. To put this in perspective, the geometry you studied in school was mostly explored by Euclid in 300 BC. That's so many lifetimes of so much math but not even a single calculator besides like abascus and other mechanical stuff. In fact, algorithms themselves have been explored since time immemorial. \n",
    "\n",
    "According to the Algorithms textbook by Vazirani, Papadimitriou and Dasgupta, the word algorithm comes from the arabic name al-Khwarizmi, a man who lived in Baghdad in the 9th century. Al-Khwarizmi laid out the methods for adding, multiplying, dividing, extracting square roots and even calculating the digits of $\\pi$. As they put it \"These procedures, were precise, unambigous, mechanial, efficient, correct - in short, they were algorithms, a term coined to honor the wise man, after the decimal system was finally adopted in Europe, many centuries later.\"\n",
    "\n",
    "They further go on \"Al-Khwarizini's work could not have gained a foothold in the West were it not for the efforts of one man: the 13th century Italian mathematician, Leonardo Fibonacci, who saw the potential of the positional system and worked hard to develop it further and propagandize it.\"\n",
    "\n",
    "To be a part of this amazing historical tradition. Let's do two things by the end of this tutorial. \n",
    "\n",
    "\n",
    "1.   Implement an algorithm than calculates the first n terms of [the Fibonacci sequence](https://en.wikipedia.org/wiki/Fibonacci_number)\n",
    "2.   Implement Euclid's algorithm for finding the [greatest common divisor](https://en.wikipedia.org/wiki/Greatest_common_divisor) of two numbers. \n",
    "\n",
    "I'll tell you about them soon.\n",
    "\n",
    "***slight digression ends***"
   ]
  },
  {
   "cell_type": "markdown",
   "metadata": {
    "id": "R6BS1SaTxr6n"
   },
   "source": [
    "Now stop furthering this terrible thought of imagining math didn't exist. Suddenly, you precipitate into 2021 and I give you a laptop with access to a super computer and all the data in the world to answer any question you can ask. How do you search for answers? More importantly, how do you know how to ask your question? Even more importantly what questions do we ask?\n",
    "\n",
    "\n",
    "\n",
    "\n"
   ]
  },
  {
   "cell_type": "markdown",
   "metadata": {
    "id": "3HgZnHO4reAy"
   },
   "source": [
    " Math, specifically, linear algebra, teaches you how to work with data that looks like matrices (is in a tabular form)."
   ]
  },
  {
   "cell_type": "markdown",
   "metadata": {
    "id": "mdZupzYoEvMY"
   },
   "source": [
    "But need some way of thinking about computation and math reasonably and unambiguously."
   ]
  },
  {
   "cell_type": "markdown",
   "metadata": {
    "id": "fSXJm3KNsTWh"
   },
   "source": [
    "\n",
    "\n",
    "Let's build our thinking from the very ground up. We will be trying to build the tools that will help us implement two algorithms, one from 300 BC, the other from a couple of centuries ago.\n",
    "\n"
   ]
  },
  {
   "cell_type": "markdown",
   "metadata": {
    "id": "984xa-h4ul-T"
   },
   "source": [
    "Let's go ahead and frame the two problems."
   ]
  },
  {
   "cell_type": "markdown",
   "metadata": {
    "id": "Tch0YuFB559v"
   },
   "source": [
    "## The Fibonacci sequence "
   ]
  },
  {
   "cell_type": "markdown",
   "metadata": {
    "id": "eO33-49EnalB"
   },
   "source": [
    "***Where I explain what the fibonacci sequence is***\n",
    "\n",
    "\n",
    "\n",
    "\n"
   ]
  },
  {
   "cell_type": "markdown",
   "metadata": {
    "id": "9Xexg6uy4KrD"
   },
   "source": [
    "In the Fibonacci sequence the first two terms are 0 & 1. All subsequent terms are the sum of the previous two terms, so we have the first 6 terms of the Fibonacci sequence as:\n",
    "\n",
    "\n",
    "```\n",
    "# 0, 1, 0+1, 1+1, 2+1, 3+2\n",
    "```\n",
    "\n",
    "\n",
    "which is the same as\n",
    "``` \n",
    "0, 1, 1, 2, 3, 5\n",
    "``` "
   ]
  },
  {
   "cell_type": "markdown",
   "metadata": {
    "id": "P8UyC_tM5ygY"
   },
   "source": [
    "## Euclid's algorithm \n"
   ]
  },
  {
   "cell_type": "markdown",
   "metadata": {
    "id": "aakgtlY5nncj"
   },
   "source": [
    "***Where I explain what Euclid's algorithm is***"
   ]
  },
  {
   "cell_type": "markdown",
   "metadata": {
    "id": "s4J_-HCXzL1o"
   },
   "source": [
    "\n",
    "```Euclid's Rule: If x and y are positive integers with x >= y then gcd(x,y) = gcd( x mod y, y)```\n",
    "\n",
    "\n",
    "Euclid's Rule says that:\n",
    "\n",
    "1) \n",
    "```If x and y are positive integers with x >= y```  \n",
    "\n",
    "If we have two numbers greater than 0 and one number (lets say x) is greater or equal to the other (lets say y)\n",
    "\n"
   ]
  },
  {
   "cell_type": "markdown",
   "metadata": {
    "id": "AHTTMHtXJTuq"
   },
   "source": [
    "\n",
    "2) then \n",
    "```gcd(x,y) = gcd(x mod y, y)```\n",
    "\n",
    "\n",
    "Then the greatest common divisor of those two numbers (x & y) is the same as the gcd of (x mod y & y)\n",
    "\n",
    "* x mod y is another way of saying the remainder when you divide the number on the left side of \"mod\" (i.e. x) by the number on the right side of \"mod\" (i.e. y)\n"
   ]
  },
  {
   "cell_type": "markdown",
   "metadata": {
    "id": "pOlDAI2dJWTB"
   },
   "source": [
    "* For example: \n",
    "\n",
    "```\n",
    "if x is 15, y is 2, then x mod y = 15 mod 2 = 1 because 15/2 leaves 1 remainder\n",
    "```\n",
    "```\n",
    "if x is 9, y is 3, then x mod y = 9 mod 3 = 0 because  9/3 leaves 0 as remainder\n",
    "```"
   ]
  },
  {
   "cell_type": "markdown",
   "metadata": {
    "id": "DqfuqtIZwRR_"
   },
   "source": [
    "I think it is a good place to stop. We will start the next notebook with a dive into python in the hopes of designing algorithms for to implement these two algorithms. Till then, try to design algorithms in plain English for these two problems. See you next time :)"
   ]
  },
  {
   "cell_type": "markdown",
   "metadata": {
    "id": "itme-EEa_P00"
   },
   "source": [
    "### [Link to second lesson](https://colab.research.google.com/drive/1epy2DOZzffvckO3d9c0MgR2OBBjUvVVW?usp=sharing)"
   ]
  },
  {
   "cell_type": "markdown",
   "metadata": {
    "id": "QYr12rJlL0jo"
   },
   "source": [
    "### References:\n",
    "\n",
    "\n",
    "1.   Composing Programs at [composingprograms.com](https://composingprograms.com) available under a Creative Commons Licence.\n",
    "2.   Algorithms by Christos Papadimitriou, Sanjoy Dasgupta, and Umesh Vazirani referenced for sake of historical accuracy.\n"
   ]
  }
 ],
 "metadata": {
  "colab": {
   "collapsed_sections": [
    "1Vd8wugfHUCh"
   ],
   "name": "1/100: where we learn about Colab",
   "provenance": [],
   "toc_visible": true
  },
  "kernelspec": {
   "display_name": "Python 3",
   "language": "python",
   "name": "python3"
  },
  "language_info": {
   "codemirror_mode": {
    "name": "ipython",
    "version": 3
   },
   "file_extension": ".py",
   "mimetype": "text/x-python",
   "name": "python",
   "nbconvert_exporter": "python",
   "pygments_lexer": "ipython3",
   "version": "3.7.10"
  }
 },
 "nbformat": 4,
 "nbformat_minor": 1
}
