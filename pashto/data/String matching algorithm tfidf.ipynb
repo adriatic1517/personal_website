{
 "cells": [
  {
   "cell_type": "code",
   "execution_count": 1,
   "metadata": {},
   "outputs": [],
   "source": [
    "import pandas as pd\n",
    "import numpy as np\n",
    "import re\n",
    "import time\n",
    "from sklearn.feature_extraction.text import TfidfVectorizer\n",
    "from sklearn.metrics.pairwise import cosine_similarity\n",
    "\n",
    "def ngrams(string, n=2):\n",
    "    string = re.sub(r'[,-./]|\\sBD',r'', string)\n",
    "    ngrams = zip(*[string[i:] for i in range(n)])\n",
    "    return [''.join(ngram) for ngram in ngrams]\n",
    "\n",
    "def search(df,column, word, threshold = 0.5, top=10):\n",
    "    vectorizer = TfidfVectorizer(min_df=1, analyzer=ngrams) #vectorizer with ngrams\n",
    "    tf_idf_matrix_clean = vectorizer.fit_transform(df[column]) #fit the data\n",
    "    tf_idf_matrix_dirty = vectorizer.transform(pd.Series([word])) #transform data on input\n",
    "    similarity = cosine_similarity(tf_idf_matrix_clean, tf_idf_matrix_dirty) #get cosine_similarity between two \n",
    "    similarity = pd.Series([i[0] for i in similarity]) #data_cleaning\n",
    "\n",
    "    ans = pd.concat([df[column].reset_index(drop=True), similarity], axis=1).sort_values(by=0, ascending=False) #join matrices\n",
    "    ans.columns = ['word', 'similarity'] \n",
    "\n",
    "    ans = ans[ans['similarity']>threshold]\n",
    "    ans = ans.sort_values(by='similarity', ascending=False)[:top]\n",
    "    suggestions = ans['word'].to_list()\n",
    "    return suggestions\n",
    "\n"
   ]
  },
  {
   "cell_type": "code",
   "execution_count": 2,
   "metadata": {},
   "outputs": [],
   "source": [
    "df = pd.read_json('/Users/emadsiddiq/Projects/personal_website/pashto/data/Pashto_Raverty_full.json').transpose()\n"
   ]
  },
  {
   "cell_type": "code",
   "execution_count": 4,
   "metadata": {},
   "outputs": [
    {
     "data": {
      "text/plain": [
       "['adv. Besides, moreover, save, over and above.',\n",
       " 'adj. (past part. of حب), Beloved, loved, lovely; (Fem.) محبوبه maḥ-būbaʿh. See مابوب',\n",
       " 's.f. (3rd) A turtle dove, a ring dove. Pl. يْ ey.',\n",
       " 's.m. (Pl. of حبيب) Lovers, beloved friends.',\n",
       " 's.f. (3rd) A basket, a hamper, a kind of cover for covering food, a sort of dish cover. Pl. يْ ey.',\n",
       " 's.f. (3rd) A ring-dove, the turtle-dove. Pl. يْ ey.',\n",
       " '(act. part. of عشق) (used substantively), A lover; (Fem.) عاشقه œā-s̱ẖiḳaʿh. عاشق کیدل œā-s̱ẖiḳ kedal, verb intrans. To fall in love, to become a lover. عاشقي œā-s̱ẖikī, s.f. (3rd) Making love, courtship, gallantry, the state of being a lover, love, amour. Pl. ئِي aʿī. عاشقي کول œā-s̱ẖiḳī kawul, verb trans. To make love, to court. See مین and مین توب',\n",
       " '(from حب) adj. Beloved, dear. Also used substantively, A beloved one, a sweetheart, a friend, a mistress.',\n",
       " 'adj. Overlooking, commanding, overtopping (as a fort). 2. An overlooker, a superintendent, a foreman.',\n",
       " \"adj. In love, loving, fond of, attached to, distracted, tender, spoony. 2. s.m. (5th) A lover, an adorer. Pl. مین ma-yœn; (Fem.) مینه ma-yanaʿh, adj. and s.f. (3rd). Pl. يْ ey. مین توب ma-yan-tob, s.m. (2nd) Love, fondness, affection, tenderness, attachment, passion, adoration. Pl. توبونه tobūnah. مین کیدل ma-yan kedal, verb intrans. To love, to like, to dote on. 2. To fall in love, to become attached to, to become enamoured, to lose one's heart. مین کول ma-yan kawul, verb trans. To love, to regard with affection, to esteem, to adore.\"]"
      ]
     },
     "execution_count": 4,
     "metadata": {},
     "output_type": "execute_result"
    }
   ],
   "source": [
    "search(df, 'meaning', 'love', threshold=0.2, top=10)"
   ]
  },
  {
   "cell_type": "code",
   "execution_count": null,
   "metadata": {},
   "outputs": [],
   "source": []
  }
 ],
 "metadata": {
  "kernelspec": {
   "display_name": "Python 3",
   "language": "python",
   "name": "python3"
  },
  "language_info": {
   "codemirror_mode": {
    "name": "ipython",
    "version": 3
   },
   "file_extension": ".py",
   "mimetype": "text/x-python",
   "name": "python",
   "nbconvert_exporter": "python",
   "pygments_lexer": "ipython3",
   "version": "3.7.6"
  }
 },
 "nbformat": 4,
 "nbformat_minor": 4
}
