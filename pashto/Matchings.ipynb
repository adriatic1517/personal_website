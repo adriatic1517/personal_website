{
 "cells": [
  {
   "cell_type": "code",
   "execution_count": 17,
   "metadata": {},
   "outputs": [],
   "source": [
    "import pandas as pd\n",
    "import numpy as np\n",
    "from string_grouper import match_strings, match_most_similar, group_similar_strings, StringGrouper"
   ]
  },
  {
   "cell_type": "code",
   "execution_count": 18,
   "metadata": {},
   "outputs": [
    {
     "data": {
      "text/html": [
       "<div>\n",
       "<style scoped>\n",
       "    .dataframe tbody tr th:only-of-type {\n",
       "        vertical-align: middle;\n",
       "    }\n",
       "\n",
       "    .dataframe tbody tr th {\n",
       "        vertical-align: top;\n",
       "    }\n",
       "\n",
       "    .dataframe thead th {\n",
       "        text-align: right;\n",
       "    }\n",
       "</style>\n",
       "<table border=\"1\" class=\"dataframe\">\n",
       "  <thead>\n",
       "    <tr style=\"text-align: right;\">\n",
       "      <th></th>\n",
       "      <th>root</th>\n",
       "      <th>pashto</th>\n",
       "      <th>phonetic</th>\n",
       "      <th>normalized</th>\n",
       "      <th>meaning</th>\n",
       "    </tr>\n",
       "  </thead>\n",
       "  <tbody>\n",
       "    <tr>\n",
       "      <th>ا</th>\n",
       "      <td>Pashto</td>\n",
       "      <td>ا</td>\n",
       "      <td>alif</td>\n",
       "      <td>alif</td>\n",
       "      <td>is the first letter of the Puś̱ẖto, as also of...</td>\n",
       "    </tr>\n",
       "    <tr>\n",
       "      <th>اب</th>\n",
       "      <td>Arabic</td>\n",
       "      <td>اب</td>\n",
       "      <td>ab,</td>\n",
       "      <td>ab</td>\n",
       "      <td>s.m. (9th) Father, master, possessor. Sing. an...</td>\n",
       "    </tr>\n",
       "    <tr>\n",
       "      <th>آب</th>\n",
       "      <td>Persian</td>\n",
       "      <td>آب</td>\n",
       "      <td>āb,</td>\n",
       "      <td>ab</td>\n",
       "      <td>s.m. (9th) Water; character, honor, reputation...</td>\n",
       "    </tr>\n",
       "    <tr>\n",
       "      <th>ابا</th>\n",
       "      <td>Arabic</td>\n",
       "      <td>ابا</td>\n",
       "      <td>ibā,</td>\n",
       "      <td>iba</td>\n",
       "      <td>s.f. (6th) Denial, refusal. (E.) Sing. and Pl....</td>\n",
       "    </tr>\n",
       "    <tr>\n",
       "      <th>ابابکر</th>\n",
       "      <td>Arabic</td>\n",
       "      <td>ابابکر</td>\n",
       "      <td>abā-bakr,</td>\n",
       "      <td>ababakr</td>\n",
       "      <td>or ابوبکر abū-bakr, s. prop. The name of the f...</td>\n",
       "    </tr>\n",
       "  </tbody>\n",
       "</table>\n",
       "</div>"
      ],
      "text/plain": [
       "           root  pashto   phonetic normalized  \\\n",
       "ا        Pashto       ا       alif       alif   \n",
       "اب       Arabic      اب        ab,         ab   \n",
       "آب      Persian      آب        āb,         ab   \n",
       "ابا      Arabic     ابا       ibā,        iba   \n",
       "ابابکر   Arabic  ابابکر  abā-bakr,    ababakr   \n",
       "\n",
       "                                                  meaning  \n",
       "ا       is the first letter of the Puś̱ẖto, as also of...  \n",
       "اب      s.m. (9th) Father, master, possessor. Sing. an...  \n",
       "آب      s.m. (9th) Water; character, honor, reputation...  \n",
       "ابا     s.f. (6th) Denial, refusal. (E.) Sing. and Pl....  \n",
       "ابابکر  or ابوبکر abū-bakr, s. prop. The name of the f...  "
      ]
     },
     "execution_count": 18,
     "metadata": {},
     "output_type": "execute_result"
    }
   ],
   "source": []
  },
  {
   "cell_type": "code",
   "execution_count": 62,
   "metadata": {},
   "outputs": [],
   "source": [
    "def get_close_matches(user_input):\n",
    "    search_terms = pd.Series([user_input])\n",
    "    \n",
    "    matches_pashto = match_strings(word_dict['pashto'], search_terms, min_similarity = 0.3)\n",
    "    matches_pashto = matches_pashto.sort_values(by='similarity', ascending=False)\n",
    "    \n",
    "    matches_phonetic = match_strings(word_dict['normalized'], search_terms, min_similarity = 0.3)\n",
    "    matches_phonetic = matches_phonetic.sort_values(by='similarity', ascending=False)\n",
    "\n",
    "    \n",
    "    return matches_pashto['left_side'].to_list() + matches_phonetic['left_side'].to_list()\n",
    "\n"
   ]
  },
  {
   "cell_type": "code",
   "execution_count": 63,
   "metadata": {},
   "outputs": [
    {
     "data": {
      "text/plain": [
       "['ماه', 'ماهي']"
      ]
     },
     "execution_count": 63,
     "metadata": {},
     "output_type": "execute_result"
    }
   ],
   "source": [
    "get_close_matches('ماه')"
   ]
  },
  {
   "cell_type": "code",
   "execution_count": 61,
   "metadata": {},
   "outputs": [
    {
     "data": {
      "text/plain": [
       "['emad is great']"
      ]
     },
     "execution_count": 61,
     "metadata": {},
     "output_type": "execute_result"
    }
   ],
   "source": [
    "['emad is great']"
   ]
  },
  {
   "cell_type": "code",
   "execution_count": null,
   "metadata": {},
   "outputs": [],
   "source": []
  }
 ],
 "metadata": {
  "kernelspec": {
   "display_name": "Python 3",
   "language": "python",
   "name": "python3"
  },
  "language_info": {
   "codemirror_mode": {
    "name": "ipython",
    "version": 3
   },
   "file_extension": ".py",
   "mimetype": "text/x-python",
   "name": "python",
   "nbconvert_exporter": "python",
   "pygments_lexer": "ipython3",
   "version": "3.7.6"
  }
 },
 "nbformat": 4,
 "nbformat_minor": 4
}
